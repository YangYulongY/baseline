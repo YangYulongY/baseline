{
 "cells": [
  {
   "cell_type": "markdown",
   "metadata": {
    "collapsed": true
   },
   "source": [
    "# User Authentication Based on Mouse Characteristics #"
   ]
  },
  {
   "cell_type": "markdown",
   "metadata": {},
   "source": [
    "## Load Packages ##"
   ]
  },
  {
   "cell_type": "code",
   "execution_count": null,
   "metadata": {},
   "outputs": [],
   "source": [
    "import pandas as pd\n",
    "import numpy as np\n",
    "\n",
    "import os\n",
    "import pickle\n",
    "from IPython.display import Image"
   ]
  },
  {
   "cell_type": "code",
   "execution_count": null,
   "metadata": {},
   "outputs": [],
   "source": [
    "script_dir = '/Users/yangyulong/Documents/yzkj/'"
   ]
  },
  {
   "cell_type": "markdown",
   "metadata": {},
   "source": [
    "## Construct Features ##"
   ]
  },
  {
   "cell_type": "markdown",
   "metadata": {},
   "source": [
    "### Remove Out-of-bound Records ###"
   ]
  },
  {
   "cell_type": "markdown",
   "metadata": {},
   "source": [
    "Coordinates (65535, 65535) mean that the mouse moves out of the remote desktop client; I remove these records as if they never had happened. I have considered the possibility of building features based on whether the mouse has left the client, but I find such events too rare to be indicative. "
   ]
  },
  {
   "cell_type": "code",
   "execution_count": null,
   "metadata": {},
   "outputs": [],
   "source": [
    "def remove_outlier(df):\n",
    "    df = df[(df['x'] < 65535) & (df['y'] < 65535)].copy()\n",
    "    df.reset_index(drop=True, inplace=True)\n",
    "\n",
    "    return df.copy()"
   ]
  },
  {
   "cell_type": "markdown",
   "metadata": {},
   "source": [
    "### Fill in Coordinates ###"
   ]
  },
  {
   "cell_type": "markdown",
   "metadata": {},
   "source": [
    "During mouse scrolling, coordinates are not captured. Assign the previous coordinates to the scrolling records. "
   ]
  },
  {
   "cell_type": "code",
   "execution_count": null,
   "metadata": {},
   "outputs": [],
   "source": [
    "def fill_in_scroll(df):\n",
    "    df.loc[df['button'] == \"Scroll\", ['x', 'y']] = np.nan\n",
    "    df['x'].fillna(method='ffill', inplace=True)\n",
    "    df['y'].fillna(method='ffill', inplace=True)\n",
    "    \n",
    "    return df.copy()"
   ]
  },
  {
   "cell_type": "markdown",
   "metadata": {},
   "source": [
    "### Define Movement Angle ###"
   ]
  },
  {
   "cell_type": "markdown",
   "metadata": {},
   "source": [
    "The movement angle from mouse position $p_{1}$ to $p_{3}$ is $\\gamma$ in the below figure. I do not intend to include the direction of the movement in my feature construction, so $\\gamma$ is the absolute value of the difference between $\\alpha$ and $\\beta$ (both $\\alpha$ and $\\beta$ are vectors). \n",
    "\n",
    "Image source: \n",
    "Bailing Wang, Hongri Liu, Kaixin Wang, Guodong Xin, A User Authentication and Identification Model Based on Mouse Dynamics, Proceedings of the 6th International Conference on Information Engineering, August 17-18, 2017, Dalian Liaoning, China \\[doi>10.1145/3078564.3078581\\]"
   ]
  },
  {
   "cell_type": "code",
   "execution_count": null,
   "metadata": {},
   "outputs": [],
   "source": [
    "Image(filename = script_dir + 'movement_angle.png')"
   ]
  },
  {
   "cell_type": "markdown",
   "metadata": {},
   "source": [
    "### Calculate Changes ###"
   ]
  },
  {
   "cell_type": "markdown",
   "metadata": {},
   "source": [
    "Now for every mouse movement record, calculate changes from the previous record. "
   ]
  },
  {
   "cell_type": "code",
   "execution_count": null,
   "metadata": {},
   "outputs": [],
   "source": [
    "def change_from_prev_rec(df):\n",
    "    # distance from the last position\n",
    "    df['distance_from_previous'] = np.sqrt((df['x'].diff())**2 + (df['y'].diff())**2)\n",
    "    \n",
    "    # elaspsed time from the previous movement\n",
    "    df['elapsed_time_from_previous'] = df['client timestamp'].diff()\n",
    "    \n",
    "    # angle of the current position, this is the alpha in the figure\n",
    "    df['angle'] = np.arctan2(df['y'], df['x']) * 180 / np.pi\n",
    "    df['angle_movement'] = df['angle'].diff()\n",
    "    # movement angle, this is gamma #\n",
    "    df['angle_movement_abs'] = abs(df['angle_movement']) \n",
    "    \n",
    "    return df.copy()"
   ]
  },
  {
   "cell_type": "markdown",
   "metadata": {},
   "source": [
    "### Define Mouse Actions ###"
   ]
  },
  {
   "cell_type": "markdown",
   "metadata": {},
   "source": [
    "Definition of a mouse action is from one click/scroll to another:\n",
    "* a complete drag, that starts with a button pressed and ends with the button released with dragging in between\n",
    "* move + scroll, that includes all the moves leading to a scroll and ends with the end of scrolling\n",
    "* move + left single click\n",
    "* move + right single click\n",
    "* move + double click, where a double click is defined as two consecutive single clicks of the same button within 5 seconds of each other (5s is the maximum double-click interval for MS Windows)\n",
    "* if there is a break in time longer than 5 seconds between two consecutive \"move\" records, the first one ends a mouse action and the second one starts a new mouse action."
   ]
  },
  {
   "cell_type": "code",
   "execution_count": null,
   "metadata": {},
   "outputs": [],
   "source": [
    "def classify_categ(df):\n",
    "    # first, define the action category of each record \n",
    "    \n",
    "    # initialize\n",
    "    df['categ'] = np.nan\n",
    "    \n",
    "    # double click: press -> release -> press -> release, same button\n",
    "    df.loc[(df['state'] == 'Pressed') & (df.shift(-1)['state'] == 'Released') \\\n",
    "           & (df.shift(-2)['state'] == 'Pressed') \\\n",
    "           & (df.shift(-3)['state'] == 'Released') \\\n",
    "           & (df.shift(-1)['button'] == df.shift(-2)['button']) \\\n",
    "           & (df.shift(-2)['elapsed_time_from_previous'] <= 5) \\\n",
    "           , 'categ'] = 'double_click'\n",
    "    # After this step, only the ith record is labeled as a double-click. Fill in the other 3. \n",
    "\n",
    "    i = 0\n",
    "    while i <= len(df.index)-4:\n",
    "        if df.iloc[i]['categ'] == 'double_click':\n",
    "            df.loc[i+1, 'categ'] = 'double_click'\n",
    "            df.loc[i+2, 'categ'] = 'double_click'\n",
    "            df.loc[i+3, 'categ'] = 'double_click'\n",
    "            i += 4\n",
    "        else:\n",
    "            i += 1\n",
    "    del i \n",
    "    # end of double-click\n",
    "    \n",
    "    # single click: \n",
    "    # 1 only one press-release pair, \n",
    "    # 2 previous and following actions are not press-release\n",
    "    df.loc[(df['state'] == 'Pressed') & (df.shift(-1)['state'] == 'Released') \\\n",
    "           & (df['categ'].isna() == True) & (df['button'] == 'Left')\n",
    "           , 'categ'] = 'left_click'\n",
    "\n",
    "    df.loc[(df['state'] == 'Pressed') & (df.shift(-1)['state'] == 'Released') \\\n",
    "           & (df['categ'].isna() == True) & (df['button'] == 'Right')\n",
    "           , 'categ'] = 'right_click'\n",
    "    # end of single-click\n",
    "    \n",
    "    # drag: press -> drag -> release\n",
    "    df.loc[((df['state'] == 'Pressed') & (df.shift(-1)['state'] == 'Drag')) \\\n",
    "           | (df['state'] == 'Drag') \\\n",
    "           | ((df['state'] == 'Released') & (df.shift()['state'] == 'Drag')), 'categ'] = 'drag'\n",
    "    \n",
    "    # move\n",
    "    df.loc[(df['state'] == 'Move'), 'categ'] = 'move'\n",
    "    \n",
    "    # scroll\n",
    "    df.loc[(df['state'].isin(['Down', 'Up'])), 'categ'] = 'scroll'\n",
    "    # end of scroll\n",
    "    \n",
    "    df['categ'].fillna(method='ffill', inplace=True)\n",
    "\n",
    "    # add an empty row at the very end of the dataframe, to help handle the actual last row\n",
    "    filllastrow = pd.DataFrame(columns = df.columns)\n",
    "    filllastrow.loc[0, 'categ'] = 'move'\n",
    "    df = pd.concat([df, filllastrow])\n",
    "\n",
    "    # Each mouse action as defined above will have an ID for later aggregation, starting from 1. \n",
    "    df['action_cnt'] = 0\n",
    "    action_cnt = 0\n",
    "    categ_current = np.nan\n",
    "\n",
    "    # This `for` loop starts from the last but one row of the dataframe and moves backwards.\n",
    "    # 5 seconds no mouse movement -> considered a break in time, start new action.\n",
    "    \n",
    "    # 1. ith record is not move, (i+1)th record is not the same as ith -> new action\n",
    "    # 2. ith is not drag, (i+1)th is drag -> new action\n",
    "    # 3. ith record is move, (i+1)th record is move, elapsed time longer than 5s -> new action\n",
    "    # 4. ith record is scroll, (i+1)th record is scroll, elapsed time longer than 5s -> new action\n",
    "    for i in range(len(df.index)-2, -1, -1):\n",
    "        if i == len(df.index)-2:\n",
    "            categ_current = df.iloc[i]['categ']\n",
    "            \n",
    "        if ((df.iloc[i]['categ'] != df.iloc[i+1]['categ']) \n",
    "             & (df.iloc[i]['categ'] != 'move')) \\\n",
    "            | ((df.iloc[i]['categ'] != 'drag') \\\n",
    "             & (df.iloc[i+1]['categ'] == 'drag')) \\\n",
    "            | ((df.iloc[i+1]['elapsed_time_from_previous'] > 5) \\\n",
    "             & (df.iloc[i]['categ'] == 'move') \\\n",
    "             & (df.iloc[i+1]['categ'] == 'move')) \\\n",
    "            | ((df.iloc[i+1]['elapsed_time_from_previous'] > 5) \\\n",
    "             & (df.iloc[i]['categ'] == 'scroll') \\\n",
    "             & (df.iloc[i+1]['categ'] == 'scroll')):\n",
    "            action_cnt -= 1\n",
    "            categ_current = df.iloc[i]['categ']\n",
    "            df.loc[i, 'action_cnt'] = action_cnt\n",
    "            df.loc[i, 'categ_agg'] = categ_current\n",
    "        else:\n",
    "            df.loc[i, 'action_cnt'] = action_cnt\n",
    "            df.loc[i, 'categ_agg'] = categ_current\n",
    "\n",
    "    # reverse the action IDs\n",
    "    df['action_cnt'] = df['action_cnt'] - action_cnt\n",
    "\n",
    "    # remove the last empty row we added\n",
    "    df = df.iloc[:-1]\n",
    "\n",
    "    del action_cnt, filllastrow, categ_current\n",
    "    \n",
    "    return df.copy()"
   ]
  },
  {
   "cell_type": "markdown",
   "metadata": {},
   "source": [
    "Prepare for the aggregation step. "
   ]
  },
  {
   "cell_type": "code",
   "execution_count": null,
   "metadata": {},
   "outputs": [],
   "source": [
    "def change_within_action(df):\n",
    "    # copy the changes to new columns\n",
    "    df['distance_within_action'] = df['distance_from_previous'].copy()\n",
    "    df['elapsed_time_within_action'] = df['elapsed_time_from_previous'].copy()\n",
    "    df['angle_movement_within_action'] = df['angle_movement'].copy()\n",
    "    df['angle_movement_abs_within_action'] = df['angle_movement_abs'].copy()\n",
    "\n",
    "    # at the beginning of each action, reset the numbers\n",
    "    for i in range(1, len(df.index)):\n",
    "        if df.iloc[i]['action_cnt'] != df.iloc[i-1]['action_cnt']:\n",
    "            df.loc[i, 'distance_within_action'] = 0\n",
    "            df.loc[i, 'elapsed_time_within_action'] = 0\n",
    "            df.loc[i, 'angle_movement_within_action'] = 0\n",
    "            df.loc[i, 'angle_movement_abs_within_action'] = 0\n",
    "        else:\n",
    "            continue\n",
    "\n",
    "    return df.copy()"
   ]
  },
  {
   "cell_type": "code",
   "execution_count": null,
   "metadata": {},
   "outputs": [],
   "source": [
    "# helper\n",
    "def distance_over_time(distance, time):\n",
    "    try:\n",
    "        result = distance / time\n",
    "    except ZeroDivisionError:\n",
    "        result = 0\n",
    "    return result"
   ]
  },
  {
   "cell_type": "markdown",
   "metadata": {},
   "source": [
    "Now aggregate everything that happens within an action. "
   ]
  },
  {
   "cell_type": "code",
   "execution_count": null,
   "metadata": {},
   "outputs": [],
   "source": [
    "def calc_aggregation(df):\n",
    "    \n",
    "    iter_over_df_index = len(df.index)\n",
    "   \n",
    "    # Distance covered in pixels, this is the distance the mouse actually has traveled. \n",
    "    straight_line_distance = pd.DataFrame(index = df['action_cnt'].unique(), \\\n",
    "                                          columns=['start_t', 'start_x', 'start_y', 'end_t', \\\n",
    "                                                   'end_x', 'end_y'])\n",
    "\n",
    "    # iter_over_df_index = len(df.index)\n",
    "\n",
    "    i = 0\n",
    "\n",
    "    while i <= iter_over_df_index - 1:\n",
    "        current_loc = 0\n",
    "        \n",
    "        if i <= iter_over_df_index - 2:\n",
    "            if (i == 0) | ((df.iloc[i]['action_cnt'] != df.iloc[i-1]['action_cnt']) \\\n",
    "                           & (df.iloc[i]['action_cnt'] == df.iloc[i+1]['action_cnt'])):\n",
    "                it = df.iloc[i]['client timestamp'] # starting time\n",
    "                ix = df.iloc[i]['x'] # initial mouse location x, for this action\n",
    "                iy = df.iloc[i]['y'] # initial mouse location y, for this action\n",
    "\n",
    "                j = i + 1\n",
    "                while j <= iter_over_df_index - 2: \n",
    "                    if (df.iloc[j]['action_cnt'] == df.iloc[j-1]['action_cnt']) \\\n",
    "                    & (df.iloc[j]['action_cnt'] != df.iloc[j+1]['action_cnt']):\n",
    "                        fx = df.iloc[j]['x'] # final mouse location x, for this action\n",
    "                        fy = df.iloc[j]['y'] # final mouse location y, for this action\n",
    "                        ft = df.iloc[j]['client timestamp']\n",
    "                        current_loc = j\n",
    "                        break\n",
    "                    else:\n",
    "                        fx = np.nan\n",
    "                        fy = np.nan\n",
    "                        ft = np.nan\n",
    "                    j += 1\n",
    "                if j == iter_over_df_index - 1:\n",
    "                    fx = df.iloc[j]['x'] # final mouse location x, for the very last action\n",
    "                    fy = df.iloc[j]['y'] # final mouse location y, for the very last action\n",
    "                    ft = df.iloc[j]['client timestamp']\n",
    "                    current_loc = j\n",
    "\n",
    "            elif (i != 0 & df.iloc[i]['action_cnt'] != df.iloc[i-1]['action_cnt'] \\\n",
    "                             & df.iloc[i]['action_cnt'] != df.iloc[i+1]['action_cnt']):\n",
    "                it = df.iloc[i]['client timestamp'] # starting time\n",
    "                ix = df.iloc[i]['x'] # initial mouse location x, for this action\n",
    "                iy = df.iloc[i]['y'] # initial mouse location y, for this action\n",
    "                ft = df.iloc[i]['client timestamp'] # starting time\n",
    "                fx = df.iloc[i]['x'] # initial mouse location x, for this action\n",
    "                fy = df.iloc[i]['y'] # initial mouse location y, for this action\n",
    "        elif (i == iter_over_df_index - 1) & (df.iloc[i]['action_cnt'] != df.iloc[i-1]['action_cnt']):\n",
    "            it = df.iloc[i]['client timestamp'] # starting time\n",
    "            ix = df.iloc[i]['x'] # initial mouse location x, for this action\n",
    "            iy = df.iloc[i]['y'] # initial mouse location y, for this action\n",
    "            fx = df.iloc[i]['x'] # final mouse location x, for the very last action\n",
    "            fy = df.iloc[i]['y'] # final mouse location y, for the very last action\n",
    "            ft = df.iloc[i]['client timestamp']\n",
    "\n",
    "\n",
    "            \n",
    "        straight_line_distance.loc[df.iloc[i]['action_cnt'], 'start_t'] = it\n",
    "        straight_line_distance.loc[df.iloc[i]['action_cnt'], 'start_x'] = ix\n",
    "        straight_line_distance.loc[df.iloc[i]['action_cnt'], 'start_y'] = iy\n",
    "        straight_line_distance.loc[df.iloc[i]['action_cnt'], 'end_t'] = ft\n",
    "        straight_line_distance.loc[df.iloc[i]['action_cnt'], 'end_x'] = fx\n",
    "        straight_line_distance.loc[df.iloc[i]['action_cnt'], 'end_y'] = fy\n",
    "\n",
    "        if current_loc != 0:\n",
    "            i = current_loc + 1\n",
    "        else:\n",
    "            i += 1\n",
    "\n",
    "    \n",
    "    df['single_speed'] = df.apply(lambda row: distance_over_time(row['distance_from_previous'], \\\n",
    "                                                                 row['elapsed_time_from_previous']), \\\n",
    "                                                                 axis=1)\n",
    "    \n",
    "    \n",
    "    \n",
    "    straight_line_distance['shortest_path'] = straight_line_distance.apply(lambda row: \\\n",
    "                                                np.sqrt((row['end_x']-row['start_x'])**2 \\\n",
    "                                                      + (row['end_y']\\\n",
    "                                                       -row['start_y'])**2), axis=1)\n",
    "\n",
    "    count_move = df.groupby('action_cnt')['action_cnt'].agg('count')\n",
    "    count_move.rename('count_move', inplace=True)\n",
    "\n",
    "    distance = df.groupby('action_cnt')['distance_within_action'].agg('sum')\n",
    "#     elapsed_time = df.groupby('action_cnt')['elapsed_time_within_action'].agg('sum')\n",
    "    cumulative_angle = df.groupby('action_cnt')['angle_movement_abs_within_action'].agg('sum')\n",
    "    \n",
    "    max_speed = df.groupby('action_cnt')['single_speed'].agg('max')\n",
    "    \n",
    "    # for each unique value in one column, get unique values in another column\n",
    "    # then fill the move-only rows\n",
    "    # mouse_action = df['categ'].groupby(df['action_cnt']).unique().apply(lambda x: list(set(x) - set(['move']))).apply(pd.Series).fillna('move')[0]\n",
    "    mouse_action = df['categ_agg'].groupby(df['action_cnt']).unique()\n",
    "    \n",
    "#     mouse_agg = pd.concat([straight_line_distance, distance, elapsed_time, cumulative_angle, \\\n",
    "#                            mouse_action, max_speed], axis=1)\n",
    "    mouse_agg = pd.concat([count_move, straight_line_distance, distance, cumulative_angle, mouse_action, max_speed], \\\n",
    "                          axis=1)\n",
    "    \n",
    "    \n",
    "    mouse_agg.rename(columns={0: \"action\"}, inplace=True)\n",
    "    \n",
    "    mouse_agg['total_time'] = mouse_agg['end_t'] - mouse_agg['start_t']\n",
    "    mouse_agg['total_time'] = pd.to_numeric(mouse_agg['total_time'])\n",
    "    # some actions appear shorter than the RDP can record, assign the smallest interval the RDP can record \n",
    "    mouse_agg.loc[mouse_agg['total_time'] == 0, 'total_time'] = 0.001 \n",
    "    mouse_agg['avg_angular_speed'] = mouse_agg['angle_movement_abs_within_action'] / mouse_agg['total_time']\n",
    "    mouse_agg['avg_speed'] = mouse_agg['distance_within_action'] / mouse_agg['total_time']\n",
    "    mouse_agg['efficiency'] = mouse_agg['shortest_path'] / mouse_agg['distance_within_action']\n",
    "    mouse_agg['curvature'] = mouse_agg['angle_movement_abs_within_action'] / mouse_agg['distance_within_action']\n",
    "    \n",
    "    mouse_agg['categ_agg'] = mouse_agg['categ_agg'].apply(lambda x: x[0])\n",
    "\n",
    "    mouse_agg['efficiency'].fillna(0, inplace=True)\n",
    "    mouse_agg['curvature'].fillna(0, inplace=True)\n",
    "    mouse_agg['avg_angular_speed'].fillna(0, inplace=True)\n",
    "    mouse_agg['avg_speed'].fillna(0, inplace=True)\n",
    "    \n",
    "    mouse_agg.reset_index(inplace=True)\n",
    "       \n",
    "    mouse_agg.rename(columns={'distance_within_action': 'distance',\n",
    "                             'total_time': 'total_time_action',\n",
    "                             'angle_movement_abs_within_action': 'sum_angles',\n",
    "                             'single_speed': 'max_speed'}, inplace=True)\n",
    "    \n",
    "    mouse_agg = mouse_agg[mouse_agg['count_move'] >= 3].copy()\n",
    "    mouse_agg = mouse_agg[mouse_agg['shortest_path'] <= 2203].copy()\n",
    "    \n",
    "    \n",
    "    # mouse_agg.drop(columns=['action_cnt', 'start_t', 'start_x', 'start_y', 'end_t', \\\n",
    "    #                         'end_x', 'end_y'], inplace=True)\n",
    "    # Check if the column exists before attempting to drop\n",
    "    columns_to_drop = ['action_cnt', 'start_t', 'start_x', 'start_y', 'end_t', 'end_x', 'end_y']\n",
    "    columns_to_drop = [col for col in columns_to_drop if col in mouse_agg.columns]\n",
    "\n",
    "    # Drop columns safely\n",
    "    mouse_agg.drop(columns=columns_to_drop, inplace=True)\n",
    "    return mouse_agg"
   ]
  },
  {
   "cell_type": "markdown",
   "metadata": {},
   "source": [
    "Finally we have these features for each action:\n",
    "average speed, maximum speed, travel distance, shortest path, efficiency (ratio of shortest path and distance traveled), total time of mouse action, sum of angles in paths, curvature (ration of the sum of angles and distance traveled), average angular speed. "
   ]
  },
  {
   "cell_type": "code",
   "execution_count": null,
   "metadata": {},
   "outputs": [],
   "source": [
    "# put all the sessions together\n",
    "def all_feature_extraction(file_paths):\n",
    "    df_list = []\n",
    "\n",
    "    for file_path in file_paths:\n",
    "\n",
    "        df = pd.read_csv(file_path, usecols=['record timestamp','client timestamp','button','state','x','y'])\n",
    "        df['user'] = file_path.split(os.path.sep)[-2]\n",
    "        df['session'] = file_path.split(os.path.sep)[-1]\n",
    "\n",
    "        df.drop_duplicates(inplace=True)\n",
    "\n",
    "        df.reset_index(drop=True, inplace=True)\n",
    "\n",
    "        df_remove_outlier = remove_outlier(df)\n",
    "        df_fill_in_scroll = fill_in_scroll(df_remove_outlier)\n",
    "        df_change_from_prev_rec = change_from_prev_rec(df_fill_in_scroll)\n",
    "        df_classify_categ = classify_categ(df_change_from_prev_rec)\n",
    "        df_change_within_action = change_within_action(df_classify_categ)\n",
    "        df_mouse_agg = calc_aggregation(df_change_within_action)\n",
    "\n",
    "        df_mouse_agg['user'] = file_path.split(os.path.sep)[-2]\n",
    "        df_mouse_agg['session'] = file_path.split(os.path.sep)[-1]\n",
    "\n",
    "        df_list.append(df_mouse_agg)\n",
    "\n",
    "        del df, df_remove_outlier, df_fill_in_scroll, df_change_from_prev_rec, df_classify_categ, \\\n",
    "        df_change_within_action, df_mouse_agg\n",
    "        \n",
    "    return df_list"
   ]
  },
  {
   "cell_type": "markdown",
   "metadata": {},
   "source": [
    "## Load Data ##"
   ]
  },
  {
   "cell_type": "code",
   "execution_count": null,
   "metadata": {},
   "outputs": [],
   "source": [
    "data_dir = '/Users/yangyulong/Documents/yzkj/'\n",
    "\n",
    "file_paths = []\n",
    "for root, dirs, files in os.walk(data_dir + \"training_files/\"):\n",
    "    for file in files:\n",
    "        file_paths.append(os.path.join(root, file))"
   ]
  },
  {
   "cell_type": "markdown",
   "metadata": {},
   "source": [
    "### Apply Feature Construction Functions ###"
   ]
  },
  {
   "cell_type": "code",
   "execution_count": null,
   "metadata": {},
   "outputs": [],
   "source": [
    "df_train_lst = all_feature_extraction(file_paths)\n",
    "\n",
    "df_train = pd.concat(df_train_lst, axis=0, ignore_index=True)\n",
    "\n",
    "del df_train_lst\n",
    "\n",
    "# pickle training data\n",
    "with open(data_dir+'all_training_aggregation.pickle', 'wb') as handle:\n",
    "    pickle.dump(df_train, handle, protocol=pickle.HIGHEST_PROTOCOL)\n",
    "    \n",
    "del file_paths"
   ]
  },
  {
   "cell_type": "code",
   "execution_count": null,
   "metadata": {},
   "outputs": [],
   "source": [
    "file_paths = []\n",
    "for root, dirs, files in os.walk(data_dir + \"test_files/\"):\n",
    "    for file in files:\n",
    "        file_paths.append(os.path.join(root, file))\n",
    "        \n",
    "df_test_lst = all_feature_extraction(file_paths)\n",
    "\n",
    "df_test = pd.concat(df_test_lst, axis=0, ignore_index=True)\n",
    "\n",
    "del df_test_lst\n",
    "\n",
    "# pickle test data\n",
    "with open(data_dir+'all_testing_aggregation.pickle', 'wb') as handle:\n",
    "    pickle.dump(df_test, handle, protocol=pickle.HIGHEST_PROTOCOL)\n",
    "    \n",
    "del file_paths"
   ]
  }
 ],
 "metadata": {
  "kernelspec": {
   "display_name": "Python 3",
   "language": "python",
   "name": "python3"
  },
  "language_info": {
   "codemirror_mode": {
    "name": "ipython",
    "version": 3
   },
   "file_extension": ".py",
   "mimetype": "text/x-python",
   "name": "python",
   "nbconvert_exporter": "python",
   "pygments_lexer": "ipython3",
   "version": "3.10.12"
  }
 },
 "nbformat": 4,
 "nbformat_minor": 2
}
